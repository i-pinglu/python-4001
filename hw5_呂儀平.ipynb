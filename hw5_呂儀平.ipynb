{
  "nbformat": 4,
  "nbformat_minor": 0,
  "metadata": {
    "colab": {
      "name": "hw5_呂儀平.ipynb",
      "provenance": [],
      "include_colab_link": true
    },
    "kernelspec": {
      "name": "python3",
      "display_name": "Python 3"
    },
    "language_info": {
      "name": "python"
    }
  },
  "cells": [
    {
      "cell_type": "markdown",
      "metadata": {
        "id": "view-in-github",
        "colab_type": "text"
      },
      "source": [
        "<a href=\"https://colab.research.google.com/github/i-pinglu/python-4001/blob/main/hw5_%E5%91%82%E5%84%80%E5%B9%B3.ipynb\" target=\"_parent\"><img src=\"https://colab.research.google.com/assets/colab-badge.svg\" alt=\"Open In Colab\"/></a>"
      ]
    },
    {
      "cell_type": "code",
      "execution_count": 1,
      "metadata": {
        "id": "cFbRi0hSFrtK"
      },
      "outputs": [],
      "source": [
        "import numpy as np\n",
        "import pandas as pd\n",
        "import matplotlib.pyplot as plt\n",
        "from sklearn.preprocessing import StandardScaler\n",
        "from sklearn.model_selection import train_test_split\n",
        "from sklearn.linear_model import LinearRegression\n",
        "from sklearn.metrics import mean_squared_error"
      ]
    },
    {
      "cell_type": "code",
      "source": [
        "#讀資料\n",
        "data = pd.read_csv(\"https://raw.githubusercontent.com/i-pinglu/python-4001/main/Salary_Data.csv\")\n",
        "X = np.array(data[\"YearsExperience\"]).reshape(-1,1)\n",
        "Y = np.array(data[\"Salary\"]).reshape(-1,1)\n",
        "#分割資料\n",
        "train_x, test_x, train_y, test_y  = train_test_split(X, Y, test_size=0.2, random_state=10)\n",
        "#進行標準化\n",
        "scaler_x = StandardScaler()\n",
        "scaler_y = StandardScaler()\n",
        "#fit_transform:fit找到train(部分資料)的整體統計特性之指標(平均值、標準差、最大最小值)後，transform對partData進行標準化\n",
        "sc_train_x = scaler_x.fit_transform(train_x)\n",
        "sc_train_y = scaler_y.fit_transform(train_y)\n",
        "#建立模型\n",
        "regression = LinearRegression()\n",
        "#訓練\n",
        "regression.fit(sc_train_x, sc_train_y)\n",
        "#評估，transform:對test(剩餘資料)使用相同的平均值、標準差、最大/最小值等指標進行轉換，從而保證部分資料、剩餘資料是以同樣的統計指標下去作標準化等轉換之資料前處理\n",
        "sc_test_x = scaler_x.transform(test_x)\n",
        "sc_test_y = scaler_y.transform(test_y)\n",
        "#預測test的薪水\n",
        "y_p = regression.predict(sc_test_x)\n",
        "#計算loss(真實答案，預測答案)\n",
        "print(f\"evaluation MSE: {mean_squared_error(sc_test_y, y_p)}\")\n",
        "#對整個原始資料進行預測\n",
        "Y_p = regression.predict(scaler_x.transform(X))\n",
        "#將標準化轉回來\n",
        "Y_inv_p = scaler_y.inverse_transform(Y_p)\n",
        "#畫圖\n",
        "plt.scatter(X, Y, s =3)\n",
        "plt.plot(X, Y_inv_p, color=\"red\")\n",
        "plt.show()"
      ],
      "metadata": {
        "id": "PAL2EemOF1bb",
        "outputId": "8da7900b-3aab-4564-e8da-0a8caa3a7c15",
        "colab": {
          "base_uri": "https://localhost:8080/",
          "height": 282
        }
      },
      "execution_count": 2,
      "outputs": [
        {
          "output_type": "stream",
          "name": "stdout",
          "text": [
            "evaluation MSE: 0.013446201443205819\n"
          ]
        },
        {
          "output_type": "display_data",
          "data": {
            "text/plain": [
              "<Figure size 432x288 with 1 Axes>"
            ],
            "image/png": "[encoded data removed]"
          },
          "metadata": {
            "needs_background": "light"
          }
        }
      ]
    }
  ]
}