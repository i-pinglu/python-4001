{
  "nbformat": 4,
  "nbformat_minor": 0,
  "metadata": {
    "colab": {
      "name": "hw5_呂儀平.ipynb",
      "provenance": [],
      "authorship_tag": "ABX9TyPPHjsLLZObF1ExX4NobKfo",
      "include_colab_link": true
    },
    "kernelspec": {
      "name": "python3",
      "display_name": "Python 3"
    },
    "language_info": {
      "name": "python"
    }
  },
  "cells": [
    {
      "cell_type": "markdown",
      "metadata": {
        "id": "view-in-github",
        "colab_type": "text"
      },
      "source": [
        "<a href=\"https://colab.research.google.com/github/i-pinglu/python-4001/blob/main/hw5_%E5%91%82%E5%84%80%E5%B9%B3.ipynb\" target=\"_parent\"><img src=\"https://colab.research.google.com/assets/colab-badge.svg\" alt=\"Open In Colab\"/></a>"
      ]
    },
    {
      "cell_type": "code",
      "execution_count": null,
      "metadata": {
        "id": "cFbRi0hSFrtK"
      },
      "outputs": [],
      "source": [
        "import numpy as np\n",
        "import matplotlib.pyplot as plt\n",
        "import pandas as pd\n",
        "from sklearn import datasets\n",
        "from sklearn.model_selection import train_test_split\n",
        "from sklearn.linear_model import LinearRegression\n",
        "from sklearn.metrics import mean_squared_error\n"
      ]
    },
    {
      "cell_type": "code",
      "source": [
        "datasets = pd.read_csv(\"https://raw.githubusercontent.com/ThousandAI/pycs4001/main/class06/Salary_Data.csv\")\n",
        "X = datasets.iloc[:, 0].values.reshape(-1,1)\n",
        "Y = datasets.iloc[:, 1].values\n",
        "\n",
        "train_x, test_x, train_y, test_y  = train_test_split(X, Y, test_size=0.2, random_state=10)\n",
        "regression = LinearRegression()\n",
        "regression.fit(train_x, train_y)\n",
        "y_p = regression.predict(test_x)\n",
        "print(f\"evaluation MSE: {mean_squared_error(test_y, y_p)}\")\n",
        "\n",
        "plt.scatter(X[:, 0], Y, s = 3)\n",
        "plt.plot(test_x,y_p, color = 'red')\n",
        "plt.show()"
      ],
      "metadata": {
        "id": "PAL2EemOF1bb",
        "outputId": "7018bc99-af8a-4e41-a49f-264f3df88928",
        "colab": {
          "base_uri": "https://localhost:8080/",
          "height": 282
        }
      },
      "execution_count": 23,
      "outputs": [
        {
          "output_type": "stream",
          "name": "stdout",
          "text": [
            "evaluation MSE: 9785570.138914324\n"
          ]
        },
        {
          "output_type": "display_data",
          "data": {
            "text/plain": [
              "<Figure size 432x288 with 1 Axes>"
            ],
            "image/png": "[encoded data removed]"
          },
          "metadata": {
            "needs_background": "light"
          }
        }
      ]
    }
  ]
}