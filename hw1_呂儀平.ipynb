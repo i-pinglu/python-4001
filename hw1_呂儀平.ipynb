{
  "nbformat": 4,
  "nbformat_minor": 0,
  "metadata": {
    "colab": {
      "name": "hw1_呂儀平.ipynb",
      "provenance": [],
      "authorship_tag": "ABX9TyNdDwk283quH2u5qCNj+MiX",
      "include_colab_link": true
    },
    "kernelspec": {
      "name": "python3",
      "display_name": "Python 3"
    },
    "language_info": {
      "name": "python"
    }
  },
  "cells": [
    {
      "cell_type": "markdown",
      "metadata": {
        "id": "view-in-github",
        "colab_type": "text"
      },
      "source": [
        "<a href=\"https://colab.research.google.com/github/i-pinglu/python-4001/blob/main/hw1_%E5%91%82%E5%84%80%E5%B9%B3.ipynb\" target=\"_parent\"><img src=\"https://colab.research.google.com/assets/colab-badge.svg\" alt=\"Open In Colab\"/></a>"
      ]
    },
    {
      "cell_type": "code",
      "execution_count": 3,
      "metadata": {
        "colab": {
          "base_uri": "https://localhost:8080/"
        },
        "id": "FDvuwRGJeGXD",
        "outputId": "806f0f87-d7be-4712-a537-b7a186e7fa1a"
      },
      "outputs": [
        {
          "output_type": "stream",
          "name": "stdout",
          "text": [
            "25\n",
            "8\n",
            "3.12\n"
          ]
        }
      ],
      "source": [
        "# 1. 使用者輸入兩個數字,請將輸入的數字相除到小數點後兩位 (四捨五入),\n",
        "#   若使用者輸入的不是數字,則需要提醒他格式錯誤。\n",
        "#   (提示: 使用 try, except) (25 分)\n",
        "\n",
        "try:\n",
        "  x = int(input())\n",
        "  y = int(input())\n",
        "  num = x/y\n",
        "  print(f\"{num:.2f}\")\n",
        "except:\n",
        "  print(f\"請輸入正確數字格式\")\n"
      ]
    },
    {
      "cell_type": "code",
      "source": [
        "# 2. 若使用者輸入2的倍數,則印出此數為2的倍數,\n",
        "# 若3的倍數,則印出此數為3的倍數,若是2也是3的倍數,則印出此數為6的倍數。(25 分)\\\n",
        "\n",
        "num = int(input())\n",
        "if num%2==0 and num%3==0:\n",
        " print(f\"{num} 為 6 的倍數\")\n",
        "if not(num%2==0 and num%3==0) and num%2==0:\n",
        " print(f\"{num} 為 2 的倍數\")\n",
        "if not(num%2==0 and num%3==0) and num%3==0:\n",
        " print(f\"{num} 為 3 的倍數\")\n"
      ],
      "metadata": {
        "colab": {
          "base_uri": "https://localhost:8080/"
        },
        "id": "w6d_PsrNeKk9",
        "outputId": "7ba66c3e-7ea9-49ec-8222-8f766df200e0"
      },
      "execution_count": 4,
      "outputs": [
        {
          "output_type": "stream",
          "name": "stdout",
          "text": [
            "24\n",
            "24 為 6 的倍數\n"
          ]
        }
      ]
    },
    {
      "cell_type": "code",
      "source": [
        "# 3. 使用者輸入n秒(n<86400)請將它轉換成x時x分x秒。(25 分)\n",
        "time = int(input())\n",
        "hour = time//3600\n",
        "min = time%3600//60\n",
        "sec = time%3600%60\n",
        "print(f\"{hour} 時 {min} 分 {sec} 秒\")\n",
        "\n",
        "# 4. 使用者輸入n(n為偶數),則印出1 3 5 7 9 ... n-1,使用while迴圈。(25分)\n",
        "n = int(input())\n",
        "i = 1\n",
        "while i<n:\n",
        " print(i,end=\" \")\n",
        " i += 2\n"
      ],
      "metadata": {
        "id": "a2JQ0NjKePzj"
      },
      "execution_count": null,
      "outputs": []
    },
    {
      "cell_type": "code",
      "source": [
        "# 3. 使用者輸入n秒(n<86400)請將它轉換成x時x分x秒。(25 分)\n",
        "time = int(input())\n",
        "hour = time//3600\n",
        "min = time%3600//60\n",
        "sec = time%3600%60\n",
        "print(f\"{hour} 時 {min} 分 {sec} 秒\")\n",
        "\n",
        "# 4. 使用者輸入n(n為偶數),則印出1 3 5 7 9 ... n-1,使用while迴圈。(25分)\n",
        "n = int(input())\n",
        "i = 1\n",
        "while i<n:\n",
        " print(i,end=\" \")\n",
        " i += 2\n"
      ],
      "metadata": {
        "id": "cY44LwezeQRT"
      },
      "execution_count": null,
      "outputs": []
    }
  ]
}