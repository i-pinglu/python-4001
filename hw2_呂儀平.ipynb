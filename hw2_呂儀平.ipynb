{
  "nbformat": 4,
  "nbformat_minor": 0,
  "metadata": {
    "colab": {
      "name": "hw2_呂儀平.ipynb",
      "provenance": [],
      "include_colab_link": true
    },
    "kernelspec": {
      "name": "python3",
      "display_name": "Python 3"
    },
    "language_info": {
      "name": "python"
    }
  },
  "cells": [
    {
      "cell_type": "markdown",
      "metadata": {
        "id": "view-in-github",
        "colab_type": "text"
      },
      "source": [
        "<a href=\"https://colab.research.google.com/github/i-pinglu/python-4001/blob/main/hw2_%E5%91%82%E5%84%80%E5%B9%B3.ipynb\" target=\"_parent\"><img src=\"https://colab.research.google.com/assets/colab-badge.svg\" alt=\"Open In Colab\"/></a>"
      ]
    },
    {
      "cell_type": "code",
      "source": [
        "# 1.使用者輸入數字n,則印出1+2+3+...+n=總和 (25 分)\n",
        "\n",
        "n = int(input())\n",
        "ans = 0\n",
        "for i in range(1,n+1):\n",
        "  ans += i\n",
        "  if i == n:\n",
        "    print(i,end=\"=\")\n",
        "  else:\n",
        "    print(i,end=\"+\")\n",
        "print(ans)"
      ],
      "metadata": {
        "id": "3aWKUYc0shFF"
      },
      "execution_count": null,
      "outputs": []
    },
    {
      "cell_type": "code",
      "source": [
        "# 2.使用者輸入一段串列,並且輸入一個數字。將串列大於等於此分數篩選出來並且存成另一個串列而將它印出\n",
        "# (25 分)\n",
        "\n",
        "s = input()\n",
        "number = int(input())\n",
        "ans = []\n",
        "anothers = s[:].split(\",\")\n",
        "for i in anothers:\n",
        "  if int(i) >= number:\n",
        "     ans.append(int(i))\n",
        "print(ans)"
      ],
      "metadata": {
        "id": "7DB_WJbxsjhV"
      },
      "execution_count": null,
      "outputs": []
    },
    {
      "cell_type": "code",
      "source": [
        "# 3.使用者輸入一串字串,將2的倍數相加得到答案。注意:不是一次輸入一個，而是一次輸入一串字串，要使用\n",
        "# split以及轉型成整數來解答(25 分)\n",
        "\n",
        "n = input().split()\n",
        "ans = 0\n",
        "for i in n:\n",
        "  if int(i)%2 == 0:\n",
        "    ans += int(i)\n",
        "print(ans)"
      ],
      "metadata": {
        "id": "duhVwyi1uLGR"
      },
      "execution_count": null,
      "outputs": []
    },
    {
      "cell_type": "code",
      "source": [
        "# 4.使用者輸入兩組字串,一組為主字串，一組為子字串。查詢子字串在主字串出現幾次，提示:用slice做\n",
        "# (25 分)\n",
        "\n",
        "main = input()\n",
        "sub = input()\n",
        "count = 0\n",
        "for i in range(main):#這裡的range後面不知道要放什麼，應該是要限制在主字串裡，但是不知道為何出錯了\n",
        " if main[0:-len(sub)] == sub:\n",
        "    count += 1\n",
        "print(count)"
      ],
      "metadata": {
        "colab": {
          "base_uri": "https://localhost:8080/",
          "height": 271
        },
        "id": "pGXfHt-2ug7L",
        "outputId": "01e5b683-5e0c-4e07-826d-8e50760508e4"
      },
      "execution_count": null,
      "outputs": [
        {
          "name": "stdout",
          "output_type": "stream",
          "text": [
            "acjiohoac\n",
            "ac\n"
          ]
        },
        {
          "output_type": "error",
          "ename": "TypeError",
          "evalue": "ignored",
          "traceback": [
            "\u001b[0;31m---------------------------------------------------------------------------\u001b[0m",
            "\u001b[0;31mTypeError\u001b[0m                                 Traceback (most recent call last)",
            "\u001b[0;32m<ipython-input-3-98cb9db3bd3d>\u001b[0m in \u001b[0;36m<module>\u001b[0;34m()\u001b[0m\n\u001b[1;32m      5\u001b[0m \u001b[0msub\u001b[0m \u001b[0;34m=\u001b[0m \u001b[0minput\u001b[0m\u001b[0;34m(\u001b[0m\u001b[0;34m)\u001b[0m\u001b[0;34m\u001b[0m\u001b[0;34m\u001b[0m\u001b[0m\n\u001b[1;32m      6\u001b[0m \u001b[0mcount\u001b[0m \u001b[0;34m=\u001b[0m \u001b[0;36m0\u001b[0m\u001b[0;34m\u001b[0m\u001b[0;34m\u001b[0m\u001b[0m\n\u001b[0;32m----> 7\u001b[0;31m \u001b[0;32mfor\u001b[0m \u001b[0mi\u001b[0m \u001b[0;32min\u001b[0m \u001b[0mrange\u001b[0m\u001b[0;34m(\u001b[0m\u001b[0mmain\u001b[0m\u001b[0;34m)\u001b[0m\u001b[0;34m:\u001b[0m\u001b[0;31m#這裡的range後面不知道要放什麼，應該是要限制在此字串裡，但是不知道為何出錯了\u001b[0m\u001b[0;34m\u001b[0m\u001b[0;34m\u001b[0m\u001b[0m\n\u001b[0m\u001b[1;32m      8\u001b[0m  \u001b[0;32mif\u001b[0m \u001b[0mmain\u001b[0m\u001b[0;34m[\u001b[0m\u001b[0;36m0\u001b[0m\u001b[0;34m:\u001b[0m\u001b[0;34m-\u001b[0m\u001b[0mlen\u001b[0m\u001b[0;34m(\u001b[0m\u001b[0msub\u001b[0m\u001b[0;34m)\u001b[0m\u001b[0;34m]\u001b[0m \u001b[0;34m==\u001b[0m \u001b[0msub\u001b[0m\u001b[0;34m:\u001b[0m\u001b[0;34m\u001b[0m\u001b[0;34m\u001b[0m\u001b[0m\n\u001b[1;32m      9\u001b[0m     \u001b[0mcount\u001b[0m \u001b[0;34m+=\u001b[0m \u001b[0;36m1\u001b[0m\u001b[0;34m\u001b[0m\u001b[0;34m\u001b[0m\u001b[0m\n",
            "\u001b[0;31mTypeError\u001b[0m: 'str' object cannot be interpreted as an integer"
          ]
        }
      ]
    }
  ]
}